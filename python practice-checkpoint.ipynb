{
 "cells": [
  {
   "cell_type": "code",
   "execution_count": 2,
   "metadata": {},
   "outputs": [
    {
     "name": "stdout",
     "output_type": "stream",
     "text": [
      "hello\n"
     ]
    }
   ],
   "source": [
    "print('hello')\n",
    "\n"
   ]
  },
  {
   "cell_type": "code",
   "execution_count": 3,
   "metadata": {},
   "outputs": [
    {
     "name": "stdout",
     "output_type": "stream",
     "text": [
      "hello\"hi\"world\n",
      "vice versa\n"
     ]
    }
   ],
   "source": [
    "print('hello\"hi\"world')\n",
    "print('vice versa')"
   ]
  },
  {
   "cell_type": "code",
   "execution_count": 4,
   "metadata": {},
   "outputs": [
    {
     "ename": "SyntaxError",
     "evalue": "invalid syntax (<ipython-input-4-28564f4d2508>, line 1)",
     "output_type": "error",
     "traceback": [
      "\u001b[1;36m  File \u001b[1;32m\"<ipython-input-4-28564f4d2508>\"\u001b[1;36m, line \u001b[1;32m1\u001b[0m\n\u001b[1;33m    print('hello'hi'')\u001b[0m\n\u001b[1;37m                  ^\u001b[0m\n\u001b[1;31mSyntaxError\u001b[0m\u001b[1;31m:\u001b[0m invalid syntax\n"
     ]
    }
   ],
   "source": [
    "print('hello'hi'')\n",
    "# print('for\" also') gives syntax error"
   ]
  },
  {
   "cell_type": "code",
   "execution_count": null,
   "metadata": {},
   "outputs": [],
   "source": [
    "print(\"hello\\\"hi\\\" world\")\n",
    "print('hello\\'hi\\'world')\n",
    "#always use backslash for double or single code in btw the line"
   ]
  },
  {
   "cell_type": "code",
   "execution_count": null,
   "metadata": {},
   "outputs": [],
   "source": [
    "print('line a\\nline b\\nline c')#new line"
   ]
  },
  {
   "cell_type": "code",
   "execution_count": null,
   "metadata": {},
   "outputs": [],
   "source": [
    "print('name\\tchetna')\n",
    "print('this is \\ backslash')"
   ]
  },
  {
   "cell_type": "code",
   "execution_count": null,
   "metadata": {},
   "outputs": [],
   "source": [
    "print(('this is  backslash\\'))\n",
    "       #becoz \\' is single codes thus end of line error "
   ]
  },
  {
   "cell_type": "code",
   "execution_count": null,
   "metadata": {},
   "outputs": [],
   "source": [
    "print('this is  backslash\\\\') #double backlash is backlash\n",
    "print('this is double backslash \\\\\\\\')"
   ]
  },
  {
   "cell_type": "code",
   "execution_count": null,
   "metadata": {},
   "outputs": [],
   "source": [
    "print('hello\\bo')# backspace\n"
   ]
  },
  {
   "cell_type": "code",
   "execution_count": null,
   "metadata": {},
   "outputs": [],
   "source": [
    "# ctrl+forward slash make comments\n"
   ]
  },
  {
   "cell_type": "code",
   "execution_count": null,
   "metadata": {},
   "outputs": [],
   "source": [
    "#output line a \\n line b\n",
    "print('line a \\\\n line b')\n",
    "#output : \\\" \\'\n",
    "print('\\\\\\\" \\\\\\'')#\\\\ = \\ and \\\" is \""
   ]
  },
  {
   "cell_type": "code",
   "execution_count": null,
   "metadata": {},
   "outputs": [],
   "source": [
    "#ex 1\n",
    "print('\\\\\\\\')\n",
    "print('/\\/\\/\\\\') # at the end \\\\ is usd\n",
    "print('he is \\tawsome')\n",
    "print('\\\\\" \\\\n \\\\t \\\\\\'')"
   ]
  },
  {
   "cell_type": "code",
   "execution_count": null,
   "metadata": {},
   "outputs": [],
   "source": [
    "print(r'line a \\n line b') # by writing r we can treat escape seq as a normal text therefore no double backslash req"
   ]
  },
  {
   "cell_type": "code",
   "execution_count": null,
   "metadata": {},
   "outputs": [],
   "source": [
    "print(2+3*4)\n",
    "print(2/4) #output is floating pt no thus float div\n",
    "print(4/2)\n",
    "print(4//2)#int type div cuts fraction part \n",
    "print(2**3)# 2^3\n",
    "print(2**0.5)# underroot 2 ** refers to ^\n",
    "print(round(2**0.5,4))#prt round off to 4 digit\n",
    "\n"
   ]
  },
  {
   "cell_type": "code",
   "execution_count": null,
   "metadata": {},
   "outputs": [],
   "source": [
    "/"
   ]
  },
  {
   "cell_type": "code",
   "execution_count": null,
   "metadata": {},
   "outputs": [],
   "source": [
    "#CHETNA BATRA\n",
    "#1129\n",
    "print('welcome')"
   ]
  },
  {
   "cell_type": "code",
   "execution_count": null,
   "metadata": {},
   "outputs": [],
   "source": [
    "#chetna batra 1129\n",
    "a= input('enter a no')\n",
    "b= input(\"enyr 2 no\")\n",
    "sum = int(a)+ int(b) \n",
    "print('the sum of 2 nos is:' , sum)"
   ]
  },
  {
   "cell_type": "code",
   "execution_count": null,
   "metadata": {},
   "outputs": [],
   "source": [
    "#chetna batra 1129\n",
    "n1= input(\"enter first name\")\n",
    "n2= input(\"enter second name\")\n",
    "n3= input(\"enter last name\")\n",
    "print(\"hello\" ,n1 ,n2 ,n3)"
   ]
  },
  {
   "cell_type": "code",
   "execution_count": 5,
   "metadata": {},
   "outputs": [
    {
     "name": "stdout",
     "output_type": "stream",
     "text": [
      "enter the no4\n",
      "4 no is even\n"
     ]
    }
   ],
   "source": [
    "#chetna 1129\n",
    "a= int(input('enter the no'))\n",
    "if a%2==0:\n",
    "    print(a,\"no is even\")\n",
    "else:\n",
    "    print(a,\"no is odd\")"
   ]
  },
  {
   "cell_type": "code",
   "execution_count": null,
   "metadata": {},
   "outputs": [],
   "source": []
  },
  {
   "cell_type": "code",
   "execution_count": 7,
   "metadata": {},
   "outputs": [
    {
     "name": "stdout",
     "output_type": "stream",
     "text": [
      "enter a character a\n",
      "a char is vowel\n"
     ]
    }
   ],
   "source": [
    "#chetna 1129\n",
    "p= input(\"enter a character \")\n",
    "if p in('a','e','i','o','u','A','I','O','U'):\n",
    "    print(p,\"char is vowel\")\n",
    "else:\n",
    "    print(\"char is consonent\")\n"
   ]
  },
  {
   "cell_type": "code",
   "execution_count": 8,
   "metadata": {},
   "outputs": [
    {
     "name": "stdout",
     "output_type": "stream",
     "text": [
      "enter 1 no45\n",
      "enter 2 no78\n",
      "78 is greater than 45\n"
     ]
    }
   ],
   "source": [
    "#chetna 1129\n",
    "x= int(input(\"enter 1 no\"))\n",
    "y= int(input(\"enter 2 no\"))\n",
    "if x>y:\n",
    "    print(\"x is greater than y\")\n",
    "else:\n",
    "    print(y,\"is greater than\",x)\n",
    "\n"
   ]
  },
  {
   "cell_type": "code",
   "execution_count": 9,
   "metadata": {},
   "outputs": [
    {
     "name": "stdout",
     "output_type": "stream",
     "text": [
      "enter a no5\n",
      "factorial of no 5 is 120\n"
     ]
    }
   ],
   "source": [
    "#chetna 1129\n",
    "x= int(input(\"enter a no\"))\n",
    "fact=1\n",
    "for i in range(1,x+1):\n",
    "    fact=fact*i\n",
    "print(\"factorial of no\",x,\"is\",fact)"
   ]
  },
  {
   "cell_type": "code",
   "execution_count": 31,
   "metadata": {},
   "outputs": [
    {
     "name": "stdout",
     "output_type": "stream",
     "text": [
      "   * \n",
      "  * * \n",
      " * * * \n",
      "* * * * \n"
     ]
    }
   ],
   "source": [
    "#chetna 1129\n",
    "print(\"   * \\n  * * \\n * * * \\n* * * * \")"
   ]
  },
  {
   "cell_type": "code",
   "execution_count": 32,
   "metadata": {},
   "outputs": [
    {
     "name": "stdout",
     "output_type": "stream",
     "text": [
      "How many terms? 8\n",
      "Fibonacci sequence:\n",
      "0\n",
      "1\n",
      "1\n",
      "2\n",
      "3\n",
      "5\n",
      "8\n",
      "13\n"
     ]
    }
   ],
   "source": [
    "#chetna 1129\n",
    "nterms = int(input(\"How many terms? \"))\n",
    "n1, n2 = 0, 1\n",
    "count = 0\n",
    "if nterms <= 0:\n",
    "   print(\"Please enter a positive integer\")\n",
    "elif nterms == 1:\n",
    "   print(\"Fibonacci sequence upto\",nterms,\":\")\n",
    "   print(n1)\n",
    "else:\n",
    "   print(\"Fibonacci sequence:\")\n",
    "   while count < nterms:\n",
    "       print(n1)\n",
    "       nth = n1 + n2\n",
    "       n1 = n2\n",
    "       n2 = nth\n",
    "       count += 1"
   ]
  },
  {
   "cell_type": "code",
   "execution_count": 34,
   "metadata": {},
   "outputs": [
    {
     "name": "stdout",
     "output_type": "stream",
     "text": [
      "enter a no45\n",
      "45 is not a prime number\n",
      "3 times 15 is 45\n"
     ]
    }
   ],
   "source": [
    "#chetna 1129\n",
    "num= int(input(\"enter a no\"))\n",
    "if num > 1:\n",
    "   for i in range(2,num):\n",
    "       if (num % i) == 0:\n",
    "           print(num,\"is not a prime number\")\n",
    "           print(i,\"times\",num//i,\"is\",num)\n",
    "           break\n",
    "   else:\n",
    "       print(num,\"is a prime number\")\n",
    "else:\n",
    "   print(num,\"is not a prime number\")"
   ]
  },
  {
   "cell_type": "code",
   "execution_count": 35,
   "metadata": {},
   "outputs": [
    {
     "name": "stdout",
     "output_type": "stream",
     "text": [
      "1. Addition\n",
      "2. Subtraction\n",
      "3. Multiplication\n",
      "4. Division\n",
      "5. Exit\n",
      "Enter your choice: 1\n",
      "Enter two numbers: \n",
      "45\n",
      "87\n",
      "Result =  132\n"
     ]
    }
   ],
   "source": [
    "#chetna 1129\n",
    "print(\"1. Addition\");\n",
    "print(\"2. Subtraction\");\n",
    "print(\"3. Multiplication\");\n",
    "print(\"4. Division\");\n",
    "print(\"5. Exit\");\n",
    "choice = int(input(\"Enter your choice: \"));\n",
    "if (choice>=1 and choice<=4):\n",
    "    print(\"Enter two numbers: \");\n",
    "    num1 = int(input());\n",
    "    num2 = int(input());\n",
    "    if choice == 1:\n",
    "        res = num1 + num2;\n",
    "        print(\"Result = \", res);\n",
    "    elif choice == 2:\n",
    "        res = num1 - num2;\n",
    "        print(\"Result = \", res);\n",
    "    elif choice == 3:\n",
    "        res = num1 * num2;\n",
    "        print(\"Result = \", res);\n",
    "    else:\n",
    "        res = num1 / num2;\n",
    "        year = int(input(\"Enter a year: \"))  \n",
    "if (year % 4) == 0:  \n",
    "   if (year % 100) == 0:  \n",
    "       if (year % 400) == 0:  \n",
    "           print(\"{0} is a leap year\".format(year))  \n",
    "       else:  \n",
    "           print(\"{0} is not a leap year\".format(year))  \n",
    "   else:  \n",
    "       print(\"{0} is a leap year\".format(year))  \n",
    "else:  \n",
    "   print(\"{0} is not a leap year\".format(year))  print(\"Result = \", res);\n",
    "elif choice == 5:\n",
    "    exit();\n",
    "else:\n",
    "    print(\"Wrong input..!!\");"
   ]
  },
  {
   "cell_type": "code",
   "execution_count": 36,
   "metadata": {},
   "outputs": [
    {
     "name": "stdout",
     "output_type": "stream",
     "text": [
      "Enter a year: 2020\n",
      "2020 is a leap year\n"
     ]
    }
   ],
   "source": [
    "#CHETNA 1129\n",
    "year = int(input(\"Enter a year: \"))  \n",
    "if (year % 4) == 0:  \n",
    "   if (year % 100) == 0:  \n",
    "       if (year % 400) == 0:  \n",
    "           print(\"{0} is a leap year\".format(year))  \n",
    "       else:  \n",
    "           print(\"{0} is not a leap year\".format(year))  \n",
    "   else:  \n",
    "       print(\"{0} is a leap year\".format(year))  \n",
    "else:  \n",
    "   print(\"{0} is not a leap year\".format(year))  "
   ]
  },
  {
   "cell_type": "code",
   "execution_count": 7,
   "metadata": {},
   "outputs": [
    {
     "name": "stdout",
     "output_type": "stream",
     "text": [
      "1 n is odd\n",
      "2 is even\n",
      "3 n is odd\n",
      "4 is even\n"
     ]
    }
   ],
   "source": [
    "n=1\n",
    "while (n<5):\n",
    "    if(n%2==0):\n",
    "        print(n,\"is even\")\n",
    "    else:\n",
    "        print(n,\"n is odd\")\n",
    "    n+=1"
   ]
  },
  {
   "cell_type": "code",
   "execution_count": 10,
   "metadata": {},
   "outputs": [
    {
     "name": "stdout",
     "output_type": "stream",
     "text": [
      "2 is 1 even number\n",
      "4 is 2 even number\n",
      "6 is 3 even number\n",
      "8 is 4 even number\n",
      "10 is 5 even number\n"
     ]
    }
   ],
   "source": [
    "n=1\n",
    "count = 0\n",
    "while n>0:\n",
    "    n=n+1\n",
    "    if n>10:\n",
    "        break\n",
    "    elif(n%2==0):\n",
    "        count +=1\n",
    "        print(n, \"is\",count,\"even number\")\n",
    "    "
   ]
  },
  {
   "cell_type": "code",
   "execution_count": 13,
   "metadata": {},
   "outputs": [
    {
     "name": "stdout",
     "output_type": "stream",
     "text": [
      "2 is the 1 even number.\n",
      "4 is the 2 even number.\n",
      "6 is the 3 even number.\n",
      "8 is the 4 even number.\n"
     ]
    }
   ],
   "source": [
    "count=0\n",
    "\n",
    "for i in range(1,9): \n",
    "    if (i%2==0):\n",
    "        count+=1\n",
    "        print(i, \"is the\" ,count , \"even number.\" )\n",
    "    else:\n",
    "        continue\n",
    "        print(i,\"is an odd number\")"
   ]
  },
  {
   "cell_type": "code",
   "execution_count": 17,
   "metadata": {},
   "outputs": [
    {
     "name": "stdout",
     "output_type": "stream",
     "text": [
      "0\n",
      "1\n",
      "2\n",
      "4\n",
      "5\n"
     ]
    }
   ],
   "source": [
    "for i in range(0,6):\n",
    "    if i==3:\n",
    "        pass\n",
    "    else:\n",
    "        print(i)\n",
    "        "
   ]
  },
  {
   "cell_type": "code",
   "execution_count": 18,
   "metadata": {},
   "outputs": [
    {
     "name": "stdout",
     "output_type": "stream",
     "text": [
      "11\n"
     ]
    }
   ],
   "source": [
    "greet = \"hello geeks\"\n",
    "print(len(greet))"
   ]
  },
  {
   "cell_type": "code",
   "execution_count": 20,
   "metadata": {},
   "outputs": [
    {
     "name": "stdout",
     "output_type": "stream",
     "text": [
      "h  1\n",
      "e  3\n",
      "l  2\n",
      "l  2\n",
      "o  1\n",
      "   1\n",
      "g  1\n",
      "e  3\n",
      "e  3\n",
      "k  1\n",
      "s  1\n"
     ]
    }
   ],
   "source": [
    "greet = \"hello geeks\"\n",
    "count=len(greet)\n",
    "for i in range(0,count):\n",
    "    string=greet[i]\n",
    "    print(string,\"\",greet.count(string))\n",
    "    "
   ]
  },
  {
   "cell_type": "code",
   "execution_count": 21,
   "metadata": {},
   "outputs": [
    {
     "name": "stdout",
     "output_type": "stream",
     "text": [
      "Input string = Geeksforgeeks\n",
      "New String = Geks\n"
     ]
    }
   ],
   "source": [
    "inputString = \"Geeksforgeeks\"\n",
    "count = 0\n",
    "for i in inputString: \n",
    "    count = count + 1\n",
    "newString = inputString[ 0:2 ] + inputString [count - 2: count ] \n",
    "print(\"Input string = \" + inputString) \n",
    "print(\"New String = \"+ newString) \n"
   ]
  },
  {
   "cell_type": "code",
   "execution_count": 26,
   "metadata": {},
   "outputs": [
    {
     "name": "stdout",
     "output_type": "stream",
     "text": [
      "Enter string:haaalo\n",
      "Modified string:\n",
      "h$$$lo\n"
     ]
    }
   ],
   "source": [
    "string=input(\"Enter string:\")\n",
    "string=string.replace('a','$')\n",
    "string=string.replace('A','$')\n",
    "print(\"Modified string:\")\n",
    "print(string)"
   ]
  },
  {
   "cell_type": "code",
   "execution_count": 29,
   "metadata": {},
   "outputs": [
    {
     "name": "stdout",
     "output_type": "stream",
     "text": [
      "Write anything:hello\n",
      "Write anything:world\n",
      "wello horld\n"
     ]
    }
   ],
   "source": [
    "string1=input(\"Write anything:\") \n",
    "string2=input(\"Write anything:\")\n",
    "fchar1=string1[0]\n",
    "fchar2=string2[0]\n",
    "new_string=fchar2+string1[1:]+\" \"+fchar1+string2[1:]\n",
    "print(new_string)"
   ]
  },
  {
   "cell_type": "code",
   "execution_count": 32,
   "metadata": {},
   "outputs": [
    {
     "name": "stdout",
     "output_type": "stream",
     "text": [
      "Write anything:programming\n",
      "programmingly\n"
     ]
    }
   ],
   "source": [
    "string=input(\"Write anything:\") \n",
    "length=len(string)\n",
    "endchars=string[length-3]+string[length-2]+string[length-1] \n",
    "if length>3:\n",
    "    if endchars==\"ing\": \n",
    "        string=string[0:]+\"ly\" \n",
    "    else: \n",
    "        string=string[0:]+\"ing\"\n",
    "print(string)"
   ]
  },
  {
   "cell_type": "code",
   "execution_count": 33,
   "metadata": {},
   "outputs": [
    {
     "name": "stdout",
     "output_type": "stream",
     "text": [
      "(1, 2, 3, 4)\n"
     ]
    }
   ],
   "source": [
    "T1=(1,2,3,4)\n",
    "print(T1)"
   ]
  },
  {
   "cell_type": "code",
   "execution_count": 34,
   "metadata": {},
   "outputs": [
    {
     "name": "stdout",
     "output_type": "stream",
     "text": [
      "('HELLO', 2, 'e')\n"
     ]
    }
   ],
   "source": [
    "T = (\"HELLO\" , 2, 'e')\n",
    "print(T)"
   ]
  },
  {
   "cell_type": "code",
   "execution_count": 36,
   "metadata": {},
   "outputs": [
    {
     "name": "stdout",
     "output_type": "stream",
     "text": [
      "4\n"
     ]
    }
   ],
   "source": [
    "T2 =(1,2,3,4,5)\n",
    "print(T2[3])"
   ]
  },
  {
   "cell_type": "code",
   "execution_count": 37,
   "metadata": {},
   "outputs": [
    {
     "name": "stdout",
     "output_type": "stream",
     "text": [
      "(1, 2, 3, 4, 5, 5)\n"
     ]
    }
   ],
   "source": [
    "T2 =(1,2,3,4,5)\n",
    "T2=T2+(5,)\n",
    "print(T2)"
   ]
  },
  {
   "cell_type": "code",
   "execution_count": 40,
   "metadata": {},
   "outputs": [
    {
     "name": "stdout",
     "output_type": "stream",
     "text": [
      "abcd\n"
     ]
    }
   ],
   "source": [
    "t1 =('a', 'b', 'c', 'd')\n",
    "\n",
    "str1 =''.join(t1)\n",
    "\n",
    "print(str1)"
   ]
  },
  {
   "cell_type": "code",
   "execution_count": 41,
   "metadata": {},
   "outputs": [
    {
     "name": "stdout",
     "output_type": "stream",
     "text": [
      "6 3\n"
     ]
    }
   ],
   "source": [
    "tup = (1,2,3,6,4,5)\n",
    "print (tup[3] ,tup[-4])"
   ]
  },
  {
   "cell_type": "code",
   "execution_count": 42,
   "metadata": {},
   "outputs": [
    {
     "name": "stdout",
     "output_type": "stream",
     "text": [
      "(3, 6, 4)\n"
     ]
    }
   ],
   "source": [
    "tup1 = tup[2:5]\n",
    "print(tup1)"
   ]
  },
  {
   "cell_type": "code",
   "execution_count": 43,
   "metadata": {},
   "outputs": [
    {
     "name": "stdout",
     "output_type": "stream",
     "text": [
      "6 3\n"
     ]
    }
   ],
   "source": [
    "tup = (3,2,3,6,4,3) \n",
    "print(tup[3] ,tup[-4])"
   ]
  },
  {
   "cell_type": "code",
   "execution_count": 44,
   "metadata": {},
   "outputs": [
    {
     "name": "stdout",
     "output_type": "stream",
     "text": [
      "3\n"
     ]
    }
   ],
   "source": [
    "print(tup.count(3))"
   ]
  },
  {
   "cell_type": "code",
   "execution_count": 45,
   "metadata": {},
   "outputs": [
    {
     "name": "stdout",
     "output_type": "stream",
     "text": [
      "(1, 2, 3, 4)\n"
     ]
    }
   ],
   "source": [
    "t1 = [1,2,3,4]\n",
    "t = tuple(t1)\n",
    "\n",
    "print(t)"
   ]
  },
  {
   "cell_type": "code",
   "execution_count": 46,
   "metadata": {},
   "outputs": [
    {
     "name": "stdout",
     "output_type": "stream",
     "text": [
      "(1, 2, 4)\n"
     ]
    }
   ],
   "source": [
    "T = list(t) \n",
    "T.remove(3)\n",
    "\n",
    "t =tuple(T)\n",
    "\n",
    "print(t)"
   ]
  },
  {
   "cell_type": "code",
   "execution_count": 48,
   "metadata": {},
   "outputs": [
    {
     "name": "stdout",
     "output_type": "stream",
     "text": [
      "(1, 3, 5, 7)\n"
     ]
    }
   ],
   "source": [
    "t= (1,3,5,7,9)\n",
    "print(t[:4])"
   ]
  },
  {
   "cell_type": "code",
   "execution_count": 49,
   "metadata": {},
   "outputs": [
    {
     "data": {
      "text/plain": [
       "5"
      ]
     },
     "execution_count": 49,
     "metadata": {},
     "output_type": "execute_result"
    }
   ],
   "source": [
    "len(t)"
   ]
  },
  {
   "cell_type": "code",
   "execution_count": 51,
   "metadata": {},
   "outputs": [
    {
     "name": "stdout",
     "output_type": "stream",
     "text": [
      "2\n"
     ]
    }
   ],
   "source": [
    "n=5\n",
    "for x in range(0, len(t)):\n",
    "    if(t[x] == n):\n",
    "        print(x) \n",
    "        break"
   ]
  },
  {
   "cell_type": "code",
   "execution_count": 52,
   "metadata": {},
   "outputs": [
    {
     "name": "stdout",
     "output_type": "stream",
     "text": [
      "(1, 3, 5, 7, 9)\n",
      "(9, 7, 5, 3, 1)\n"
     ]
    }
   ],
   "source": [
    "print(t)\n",
    "\n",
    "reverse = reversed (t)\n",
    "print(tuple((reverse)))"
   ]
  },
  {
   "cell_type": "code",
   "execution_count": 55,
   "metadata": {},
   "outputs": [
    {
     "name": "stdout",
     "output_type": "stream",
     "text": [
      "15\n"
     ]
    }
   ],
   "source": [
    "list= [1,2,3,4,5]\n",
    "su = 0\n",
    "for x in list:\n",
    "    su = su + x\n",
    "print(su)"
   ]
  },
  {
   "cell_type": "code",
   "execution_count": 57,
   "metadata": {},
   "outputs": [
    {
     "name": "stdout",
     "output_type": "stream",
     "text": [
      "120\n"
     ]
    }
   ],
   "source": [
    "list = [1,2,3,4,5]\n",
    "\n",
    "su = 1\n",
    "\n",
    "for x in list:\n",
    "    su = su * x\n",
    "\n",
    "print(su)"
   ]
  },
  {
   "cell_type": "code",
   "execution_count": 59,
   "metadata": {},
   "outputs": [
    {
     "name": "stdout",
     "output_type": "stream",
     "text": [
      "5\n"
     ]
    }
   ],
   "source": [
    "list = [1,2,3,4,5] \n",
    "su = list[0]\n",
    "\n",
    "for x in list:\n",
    "    if (x>su):\n",
    "        su = x\n",
    "\n",
    "print(su)"
   ]
  },
  {
   "cell_type": "code",
   "execution_count": 68,
   "metadata": {},
   "outputs": [
    {
     "name": "stdout",
     "output_type": "stream",
     "text": [
      "0\n"
     ]
    }
   ],
   "source": [
    "list = ['abc', \"xyz', 'aba', 1221\"]\n",
    "count = 0\n",
    "for x in list:\n",
    "    if(len(x) >= 2) and (x[0] == x[-1]):\n",
    "     count += 1\n",
    "print(count)\n"
   ]
  },
  {
   "cell_type": "code",
   "execution_count": 69,
   "metadata": {},
   "outputs": [
    {
     "name": "stdout",
     "output_type": "stream",
     "text": [
      "After removing duplicates[1, 2, 3, 4, 5, 6]\n"
     ]
    }
   ],
   "source": [
    "mylist = [1,2,3,4,5,5,6,6,2,1]\n",
    "\n",
    "newlist = [] \n",
    "for i in mylist:\n",
    "    if i not in newlist:\n",
    "        newlist.append(i) \n",
    "mylist = newlist\n",
    "\n",
    "print(\"After removing duplicates\" + str(mylist))"
   ]
  },
  {
   "cell_type": "code",
   "execution_count": 70,
   "metadata": {},
   "outputs": [
    {
     "name": "stdout",
     "output_type": "stream",
     "text": [
      "Empty List\n"
     ]
    }
   ],
   "source": [
    "\n",
    "li = []\n",
    "\n",
    "if len(li) == 0:\n",
    "    print(\"Empty List\")\n",
    "\n",
    "else:\n",
    "    print(\"Non-Empty List\")"
   ]
  },
  {
   "cell_type": "code",
   "execution_count": 71,
   "metadata": {},
   "outputs": [
    {
     "name": "stdout",
     "output_type": "stream",
     "text": [
      "[1, 2, 3, 4, 5, 6]\n",
      "[1, 2, 3, 4, 5, 6]\n"
     ]
    }
   ],
   "source": [
    "copylist = []\n",
    "copylist = mylist\n",
    "\n",
    "print(copylist)\n",
    "\n",
    "copy = [] \n",
    "copy = mylist.copy()\n",
    "\n",
    "print(copy)\n"
   ]
  },
  {
   "cell_type": "code",
   "execution_count": 73,
   "metadata": {},
   "outputs": [
    {
     "name": "stdout",
     "output_type": "stream",
     "text": [
      "True\n"
     ]
    }
   ],
   "source": [
    "onelist = [1,2,3,4,5,9]\n",
    "secondlist = [6,7,8,9]\n",
    "\n",
    "for x in onelist:\n",
    "    for y in secondlist:\n",
    "        if x == y:\n",
    "            print(True)\n",
    "            break"
   ]
  },
  {
   "cell_type": "code",
   "execution_count": 74,
   "metadata": {},
   "outputs": [
    {
     "data": {
      "text/plain": [
       "{}"
      ]
     },
     "execution_count": 74,
     "metadata": {},
     "output_type": "execute_result"
    }
   ],
   "source": [
    "\n",
    "dict1={}\n",
    "dict1"
   ]
  },
  {
   "cell_type": "code",
   "execution_count": 75,
   "metadata": {},
   "outputs": [
    {
     "data": {
      "text/plain": [
       "{'A': 10, 'B': 20}"
      ]
     },
     "execution_count": 75,
     "metadata": {},
     "output_type": "execute_result"
    }
   ],
   "source": [
    "dict1={\"A\":10,\"B\":20}\n",
    "dict1"
   ]
  },
  {
   "cell_type": "code",
   "execution_count": 76,
   "metadata": {},
   "outputs": [
    {
     "data": {
      "text/plain": [
       "{'A': 'D', 2: 'R', 3.8: '11'}"
      ]
     },
     "execution_count": 76,
     "metadata": {},
     "output_type": "execute_result"
    }
   ],
   "source": [
    "dict1={\"A\":\"D\", 2:\"R\", 3.8:\"11\"}\n",
    "dict1"
   ]
  },
  {
   "cell_type": "code",
   "execution_count": 77,
   "metadata": {},
   "outputs": [
    {
     "name": "stdout",
     "output_type": "stream",
     "text": [
      "{'A': 'D', 2: 'R', 3.8: '11'}\n"
     ]
    }
   ],
   "source": [
    "dict1={\"A\":\"D\", 2:\"R\", 3.8:\"11\"}\n",
    "print(dict1)"
   ]
  },
  {
   "cell_type": "code",
   "execution_count": 78,
   "metadata": {},
   "outputs": [
    {
     "data": {
      "text/plain": [
       "{'A': 'D', 3.8: '11'}"
      ]
     },
     "execution_count": 78,
     "metadata": {},
     "output_type": "execute_result"
    }
   ],
   "source": [
    "dict1={\"A\":\"D\", 2:\"R\", 3.8:\"11\"}\n",
    "del(dict1[2])\n",
    "dict1\n"
   ]
  },
  {
   "cell_type": "code",
   "execution_count": 83,
   "metadata": {},
   "outputs": [],
   "source": []
  },
  {
   "cell_type": "code",
   "execution_count": 84,
   "metadata": {},
   "outputs": [
    {
     "name": "stdout",
     "output_type": "stream",
     "text": [
      "11\n"
     ]
    }
   ],
   "source": [
    "dict1={\"A\":\"D\", 2:\"R\", 3.8:\"11\"}\n",
    "print(dict1[3.8])"
   ]
  },
  {
   "cell_type": "code",
   "execution_count": 85,
   "metadata": {},
   "outputs": [
    {
     "data": {
      "text/plain": [
       "True"
      ]
     },
     "execution_count": 85,
     "metadata": {},
     "output_type": "execute_result"
    }
   ],
   "source": [
    "dict1={\"A\":\"D\", 2:\"R\", 3.8:\"11\"}\n",
    "\"A\" in dict1"
   ]
  },
  {
   "cell_type": "code",
   "execution_count": 86,
   "metadata": {},
   "outputs": [
    {
     "name": "stdout",
     "output_type": "stream",
     "text": [
      "{'A': 'D', 2: 'R', 3.8: '2k19'}\n"
     ]
    }
   ],
   "source": [
    "dict1={\"A\":\"D\", 2:\"R\", 3.8:\"11\"}\n",
    "dict1[3.8]=\"2k19\"\n",
    "print(dict1)"
   ]
  },
  {
   "cell_type": "code",
   "execution_count": 87,
   "metadata": {},
   "outputs": [
    {
     "data": {
      "text/plain": [
       "{'A': 'D', 2: 'R', 3.8: '11', 'b': '2K19'}"
      ]
     },
     "execution_count": 87,
     "metadata": {},
     "output_type": "execute_result"
    }
   ],
   "source": [
    "dict1={\"A\":\"D\", 2:\"R\", 3.8:\"11\"}\n",
    "dict1[\"b\"]=\"2K19\"\n",
    "dict1"
   ]
  },
  {
   "cell_type": "code",
   "execution_count": 88,
   "metadata": {},
   "outputs": [
    {
     "name": "stdout",
     "output_type": "stream",
     "text": [
      "{1: 1, 2: 4, 3: 9, 4: 16, 5: 25, 6: 36, 7: 49, 8: 64, 9: 81, 10: 100}\n"
     ]
    }
   ],
   "source": [
    "dict1={}\n",
    "for i in range(1,11):\n",
    "    dict1[i]=i*i\n",
    "print(dict1)"
   ]
  },
  {
   "cell_type": "code",
   "execution_count": 89,
   "metadata": {},
   "outputs": [
    {
     "name": "stdout",
     "output_type": "stream",
     "text": [
      "{1: 'a', 2: 'b', 3: {4: 'c', 5: 'd'}, 6: 'e'}\n"
     ]
    }
   ],
   "source": [
    "dict1={1:\"a\", 2:\"b\", 3:{4:\"c\",5:\"d\"}, 6:\"e\" }\n",
    "print(dict1)"
   ]
  },
  {
   "cell_type": "code",
   "execution_count": 90,
   "metadata": {},
   "outputs": [
    {
     "data": {
      "text/plain": [
       "{1: 10, 2: 20, 3: 30, 4: 40, 5: 50, 6: 60}"
      ]
     },
     "execution_count": 90,
     "metadata": {},
     "output_type": "execute_result"
    }
   ],
   "source": [
    "dic1={1:10, 2:20}\n",
    "dic2={3:30, 4:40}\n",
    "dic3={5:50,6:60}\n",
    "dict1={**dic1, **dic2, **dic3}\n",
    "dict1"
   ]
  },
  {
   "cell_type": "code",
   "execution_count": 91,
   "metadata": {},
   "outputs": [
    {
     "name": "stdout",
     "output_type": "stream",
     "text": [
      "{1: 1, 2: 2, 3: 3, 4: 4, 5: 5}\n",
      "150\n"
     ]
    }
   ],
   "source": [
    "dic1={1:1, 2:2, 3:3, 4:4, 5:5}\n",
    "len1=len(dic1)\n",
    "sum=0\n",
    "for i in range(1,len1+1):\n",
    "    sum+=dict1[i]\n",
    "print(dic1)\n",
    "print(sum)\n"
   ]
  },
  {
   "cell_type": "code",
   "execution_count": 92,
   "metadata": {},
   "outputs": [
    {
     "data": {
      "text/plain": [
       "'d'"
      ]
     },
     "execution_count": 92,
     "metadata": {},
     "output_type": "execute_result"
    }
   ],
   "source": [
    "dict1={1:\"a\", 2:\"b\", 3:{4:\"c\",5:\"d\"}, 6:\"e\" }\n",
    "dict1[3][5]"
   ]
  },
  {
   "cell_type": "code",
   "execution_count": 93,
   "metadata": {},
   "outputs": [
    {
     "name": "stdout",
     "output_type": "stream",
     "text": [
      "{0: 0, 1: 1, 2: 4, 3: 9, 4: 16, 5: 25, 6: 36, 7: 49, 8: 64, 9: 81, 10: 100, 11: 121, 12: 144, 13: 169, 14: 196, 15: 225}\n"
     ]
    }
   ],
   "source": [
    "dict1={}\n",
    "for i in range(0,16):\n",
    "    dict1[i]=i*i\n",
    "print(dict1)\n"
   ]
  },
  {
   "cell_type": "code",
   "execution_count": 94,
   "metadata": {},
   "outputs": [
    {
     "name": "stdout",
     "output_type": "stream",
     "text": [
      "{1: 1, 2: 2, 3: 6, 4: 24, 5: 120, 6: 720}\n"
     ]
    }
   ],
   "source": [
    "def factorial(n):\n",
    "    fact=1\n",
    "    for i in range(1,n+1):\n",
    "        fact=i*fact\n",
    "    return fact\n",
    "dict1={}\n",
    "for i in range (1,7):\n",
    "    dict1[i]=factorial(i)\n",
    "print(dict1)\n"
   ]
  },
  {
   "cell_type": "code",
   "execution_count": 95,
   "metadata": {},
   "outputs": [
    {
     "data": {
      "text/plain": [
       "{1, 2, 3}"
      ]
     },
     "execution_count": 95,
     "metadata": {},
     "output_type": "execute_result"
    }
   ],
   "source": [
    "sets={1,2,3,1}\n",
    "sets"
   ]
  },
  {
   "cell_type": "code",
   "execution_count": 96,
   "metadata": {},
   "outputs": [
    {
     "name": "stdout",
     "output_type": "stream",
     "text": [
      "{1, 2, 3, 4, 5}\n"
     ]
    }
   ],
   "source": [
    "set1={1,2,3,4}\n",
    "set1.add(5)\n",
    "print(set1)"
   ]
  },
  {
   "cell_type": "code",
   "execution_count": 97,
   "metadata": {},
   "outputs": [
    {
     "data": {
      "text/plain": [
       "{1, 2, 3, 4, 5, 6, 7}"
      ]
     },
     "execution_count": 97,
     "metadata": {},
     "output_type": "execute_result"
    }
   ],
   "source": [
    "set1={1,2,3,4}\n",
    "set2={5,6,7}\n",
    "set1.update(set2)\n",
    "set1"
   ]
  },
  {
   "cell_type": "code",
   "execution_count": 98,
   "metadata": {},
   "outputs": [
    {
     "name": "stdout",
     "output_type": "stream",
     "text": [
      "4\n"
     ]
    }
   ],
   "source": [
    "set1={1,2,3,4}\n",
    "print(len(set1))"
   ]
  },
  {
   "cell_type": "code",
   "execution_count": 99,
   "metadata": {},
   "outputs": [
    {
     "data": {
      "text/plain": [
       "{1, 2, 4}"
      ]
     },
     "execution_count": 99,
     "metadata": {},
     "output_type": "execute_result"
    }
   ],
   "source": [
    "set1={1,2,3,4}\n",
    "set1.remove(3)\n",
    "set1"
   ]
  },
  {
   "cell_type": "code",
   "execution_count": 100,
   "metadata": {},
   "outputs": [
    {
     "data": {
      "text/plain": [
       "1"
      ]
     },
     "execution_count": 100,
     "metadata": {},
     "output_type": "execute_result"
    }
   ],
   "source": [
    "set1={3,4,1}\n",
    "set1.pop()"
   ]
  },
  {
   "cell_type": "code",
   "execution_count": 101,
   "metadata": {},
   "outputs": [
    {
     "data": {
      "text/plain": [
       "{1, 2, 3, 4, 5, 6, 7}"
      ]
     },
     "execution_count": 101,
     "metadata": {},
     "output_type": "execute_result"
    }
   ],
   "source": [
    "set1={1,2,3,4}\n",
    "set2={5,6,7}\n",
    "set1.update(set2)\n",
    "set1"
   ]
  },
  {
   "cell_type": "code",
   "execution_count": 102,
   "metadata": {},
   "outputs": [
    {
     "name": "stdout",
     "output_type": "stream",
     "text": [
      "{3, 4, 5}\n"
     ]
    }
   ],
   "source": [
    "set1={1,2,3,4,5}\n",
    "set2={3,4,5,6}\n",
    "print(set1 & set2)"
   ]
  },
  {
   "cell_type": "code",
   "execution_count": 103,
   "metadata": {},
   "outputs": [
    {
     "name": "stdout",
     "output_type": "stream",
     "text": [
      "{1, 2, 3, 4, 5, 6, 7}\n"
     ]
    }
   ],
   "source": [
    "set1={1,2,3,4}\n",
    "set2={4,5,6,7}\n",
    "print(set1.union(set2))"
   ]
  },
  {
   "cell_type": "code",
   "execution_count": 104,
   "metadata": {},
   "outputs": [
    {
     "data": {
      "text/plain": [
       "set()"
      ]
     },
     "execution_count": 104,
     "metadata": {},
     "output_type": "execute_result"
    }
   ],
   "source": [
    "set1={1,2,3,4}\n",
    "set1.clear()\n",
    "set1"
   ]
  },
  {
   "cell_type": "code",
   "execution_count": 105,
   "metadata": {},
   "outputs": [
    {
     "name": "stdout",
     "output_type": "stream",
     "text": [
      "True\n",
      "True\n"
     ]
    }
   ],
   "source": [
    "set1={1,2,3,4,5,6,7}\n",
    "set2={3,4,5}\n",
    "print(set2.issubset(set1))\n",
    "print(set1.issuperset(set2))\n"
   ]
  },
  {
   "cell_type": "code",
   "execution_count": 106,
   "metadata": {},
   "outputs": [
    {
     "data": {
      "text/plain": [
       "{1, 2, 6, 7}"
      ]
     },
     "execution_count": 106,
     "metadata": {},
     "output_type": "execute_result"
    }
   ],
   "source": [
    "set1={1,2,3,4,5,6,7}\n",
    "set2={3,4,5,9,8}\n",
    "set3=set1.difference(set2)  \n",
    "set3"
   ]
  },
  {
   "cell_type": "code",
   "execution_count": 107,
   "metadata": {},
   "outputs": [
    {
     "data": {
      "text/plain": [
       "{1, 2, 6, 7, 8, 9}"
      ]
     },
     "execution_count": 107,
     "metadata": {},
     "output_type": "execute_result"
    }
   ],
   "source": [
    "set1={1,2,3,4,5,6,7}\n",
    "set2={3,4,5,9,8}\n",
    "symmetricdifference=(set1-set2).union(set2-set1)\n",
    "symmetricdifference"
   ]
  },
  {
   "cell_type": "code",
   "execution_count": null,
   "metadata": {},
   "outputs": [],
   "source": []
  }
 ],
 "metadata": {
  "kernelspec": {
   "display_name": "Python 3",
   "language": "python",
   "name": "python3"
  },
  "language_info": {
   "codemirror_mode": {
    "name": "ipython",
    "version": 3
   },
   "file_extension": ".py",
   "mimetype": "text/x-python",
   "name": "python",
   "nbconvert_exporter": "python",
   "pygments_lexer": "ipython3",
   "version": "3.7.3"
  }
 },
 "nbformat": 4,
 "nbformat_minor": 4
}
